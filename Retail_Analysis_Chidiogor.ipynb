{
 "cells": [
  {
   "cell_type": "markdown",
   "id": "3002ee0c",
   "metadata": {},
   "source": [
    "# 📊 Online Retail Analysis with Python\n",
    "_By Chidiogor Nwafor_"
   ]
  },
  {
   "cell_type": "code",
   "execution_count": null,
   "id": "3b69305d",
   "metadata": {},
   "outputs": [],
   "source": [
    "import pandas as pd\n",
    "import matplotlib.pyplot as plt"
   ]
  },
  {
   "cell_type": "code",
   "execution_count": null,
   "id": "433c7083",
   "metadata": {},
   "outputs": [],
   "source": [
    "# Load datasets\n",
    "customers = pd.read_csv('customers.csv')\n",
    "products = pd.read_csv('products.csv')\n",
    "orders = pd.read_csv('orders.csv')\n",
    "order_items = pd.read_csv('order_items.csv')"
   ]
  },
  {
   "cell_type": "code",
   "execution_count": null,
   "id": "e4091b70",
   "metadata": {},
   "outputs": [],
   "source": [
    "# Preview datasets\n",
    "print('Customers:', customers.head())\n",
    "print('\\nProducts:', products.head())\n",
    "print('\\nOrders:', orders.head())\n",
    "print('\\nOrder Items:', order_items.head())"
   ]
  },
  {
   "cell_type": "code",
   "execution_count": null,
   "id": "6a2ed198",
   "metadata": {},
   "outputs": [],
   "source": [
    "# Top 5 Best-Selling Products by Quantity\n",
    "top_products = (\n",
    "    order_items.merge(products, on='product_id')\n",
    "    .groupby('product_name')['quantity']\n",
    "    .sum()\n",
    "    .sort_values(ascending=False)\n",
    "    .head(5)\n",
    ")\n",
    "print(top_products)"
   ]
  },
  {
   "cell_type": "code",
   "execution_count": null,
   "id": "1c48f646",
   "metadata": {},
   "outputs": [],
   "source": [
    "# Plot best-selling products\n",
    "top_products.plot(kind='bar', color='skyblue')\n",
    "plt.title('Top 5 Best-Selling Products')\n",
    "plt.ylabel('Total Quantity Sold')\n",
    "plt.xlabel('Product')\n",
    "plt.xticks(rotation=45)\n",
    "plt.tight_layout()\n",
    "plt.show()"
   ]
  },
  {
   "cell_type": "code",
   "execution_count": null,
   "id": "8b766ad2",
   "metadata": {},
   "outputs": [],
   "source": [
    "# Revenue by Category\n",
    "order_items_merged = order_items.merge(products, on='product_id')\n",
    "revenue_by_category = (\n",
    "    order_items_merged.groupby('category')['total_price']\n",
    "    .sum()\n",
    "    .sort_values(ascending=False)\n",
    ")\n",
    "print(revenue_by_category)"
   ]
  },
  {
   "cell_type": "code",
   "execution_count": null,
   "id": "65d9998a",
   "metadata": {},
   "outputs": [],
   "source": [
    "# Plot revenue by category\n",
    "revenue_by_category.plot(kind='bar', color='orange')\n",
    "plt.title('Total Revenue by Product Category')\n",
    "plt.ylabel('Revenue (₦)')\n",
    "plt.xlabel('Category')\n",
    "plt.xticks(rotation=30)\n",
    "plt.tight_layout()\n",
    "plt.show()"
   ]
  },
  {
   "cell_type": "markdown",
   "id": "5e0e6dc1",
   "metadata": {},
   "source": [
    "### 🧠 Final Thoughts\n",
    "This project helped me transition from SQL into Python-powered data analytics. I used `pandas` to group, join, and analyze data, and `matplotlib` to turn raw numbers into visual stories. I'm excited to take on more Python projects and deepen my analytics skills."
   ]
  }
 ],
 "metadata": {},
 "nbformat": 4,
 "nbformat_minor": 5
}
